{
 "cells": [
  {
   "cell_type": "code",
   "execution_count": null,
   "id": "e3a4e248-872a-4d4b-9473-747fde21f104",
   "metadata": {},
   "outputs": [],
   "source": [
    "\n",
    "class ModelBasedReflexAgent:\n",
    "    def __init__(self, desired_temperature):\n",
    "        self.desired_temperature = desired_temperature\n",
    "        self.memory = {}\n",
    "\n",
    "    def act(self, room, current_temperature):\n",
    "        \n",
    "        self.memory[room] = current_temperature\n",
    "        \n",
    "        \n",
    "        if current_temperature < self.desired_temperature:\n",
    "            return \"Turn on heater\"\n",
    "        else:\n",
    "            return \"Turn off heater\"\n",
    "\n",
    "\n",
    "rooms = {\n",
    "    \"Living Room\": 18,\n",
    "    \"Bedroom\": 22,\n",
    "    \"Kitchen\": 20,\n",
    "    \"Bathroom\": 24\n",
    "}\n",
    "\n",
    "\n",
    "agent = ModelBasedReflexAgent(22)\n",
    "\n",
    "\n",
    "for room, temperature in rooms.items():\n",
    "    action = agent.act(room, temperature)\n",
    "    print(f\"{room}: {temperature}°C -> {action}. Memory: {agent.memory}\")\n"
   ]
  },
  {
   "cell_type": "code",
   "execution_count": null,
   "id": "344e8061",
   "metadata": {},
   "outputs": [],
   "source": []
  }
 ],
 "metadata": {
  "kernelspec": {
   "display_name": "Python 3 (ipykernel)",
   "language": "python",
   "name": "python3"
  },
  "language_info": {
   "codemirror_mode": {
    "name": "ipython",
    "version": 3
   },
   "file_extension": ".py",
   "mimetype": "text/x-python",
   "name": "python",
   "nbconvert_exporter": "python",
   "pygments_lexer": "ipython3",
   "version": "3.12.2"
  }
 },
 "nbformat": 4,
 "nbformat_minor": 5
}
