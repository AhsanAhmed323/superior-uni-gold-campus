{
 "cells": [
  {
   "cell_type": "code",
   "execution_count": 3,
   "id": "e3a4e248-872a-4d4b-9473-747fde21f104",
   "metadata": {},
   "outputs": [
    {
     "name": "stdout",
     "output_type": "stream",
     "text": [
      "1\n",
      "2\n",
      "Fizz\n",
      "4\n",
      "Buzz\n",
      "Fizz\n",
      "7\n",
      "8\n"
     ]
    }
   ],
   "source": [
    " def fizzbuzz(number):\n",
    "    \"\"\"Prints the FizzBuzz sequence up to the given number.\"\"\"\n",
    "    for num in range(1, number + 1):\n",
    "        output = \"\"\n",
    "        if num % 3 == 0:\n",
    "            output += \"Fizz\"\n",
    "        if num % 5 == 0:\n",
    "            output += \"Buzz\"\n",
    "        print(output or num)  \n",
    "\n",
    "\n",
    "try:\n",
    "    number = int(input(\"Enter the upper limit for the FizzBuzz game: \"))\n",
    "    if number > 0:\n",
    "        fizzbuzz(number)\n",
    "    else:\n",
    "        print(\"Please enter a positive integer.\")\n",
    "except ValueError:\n",
    "    print(\"Invalid input. Please enter a positive integer.\")\n"
   ]
  },
  {
   "cell_type": "code",
   "execution_count": null,
   "id": "344e8061",
   "metadata": {},
   "outputs": [],
   "source": []
  }
 ],
 "metadata": {
  "kernelspec": {
   "display_name": "Python 3 (ipykernel)",
   "language": "python",
   "name": "python3"
  },
  "language_info": {
   "codemirror_mode": {
    "name": "ipython",
    "version": 3
   },
   "file_extension": ".py",
   "mimetype": "text/x-python",
   "name": "python",
   "nbconvert_exporter": "python",
   "pygments_lexer": "ipython3",
   "version": "3.12.2"
  }
 },
 "nbformat": 4,
 "nbformat_minor": 5
}
