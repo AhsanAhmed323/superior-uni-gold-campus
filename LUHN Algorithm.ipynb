{
 "cells": [
  {
   "cell_type": "code",
   "execution_count": null,
   "id": "e3a4e248-872a-4d4b-9473-747fde21f104",
   "metadata": {},
   "outputs": [],
   "source": [
    "\n",
    "class modelreflexagent:\n",
    "    def _init_(self,desired_temp):\n",
    "        self.desired_temp = desired_temp\n",
    "        self.previous_act = {}\n",
    "    def perceive(self,current_temp):\n",
    "        return current_temp\n",
    "\n",
    "    def act(self,room,current_temp):\n",
    "        previous_act = self.previous_act.get(room, None)\n",
    "        if current_temp < self.desired_temp:\n",
    "            new_action = \"turn on heater\"\n",
    "\n",
    "        else:\n",
    "            new_action = \"turn off heater\"\n",
    "\n",
    "        if new_action != previous_act:\n",
    "            self.previous_act[room] = new_action\n",
    "            return new_action\n",
    "        else:\n",
    "            return \"no action needed\"\n",
    "rooms = {\n",
    "    \"living room\" : 18,\n",
    "    \"bed room\" : 22,\n",
    "    \"kitchen\" : 20,\n",
    "    \"bath room\" : 24\n",
    "}\n",
    "desired_temp = 22\n",
    "agent = modelreflexagent(desired_temp)\n",
    "\n",
    "for room, temperature in rooms.items():\n",
    "    action = agent.act(room, temperature)\n",
    "    print(f\"{room}: current temp = {temperature}. {action}.\")"
   ]
  },
  {
   "cell_type": "code",
   "execution_count": null,
   "id": "344e8061",
   "metadata": {},
   "outputs": [],
   "source": []
  }
 ],
 "metadata": {
  "kernelspec": {
   "display_name": "Python 3 (ipykernel)",
   "language": "python",
   "name": "python3"
  },
  "language_info": {
   "codemirror_mode": {
    "name": "ipython",
    "version": 3
   },
   "file_extension": ".py",
   "mimetype": "text/x-python",
   "name": "python",
   "nbconvert_exporter": "python",
   "pygments_lexer": "ipython3",
   "version": "3.12.2"
  }
 },
 "nbformat": 4,
 "nbformat_minor": 5
}
